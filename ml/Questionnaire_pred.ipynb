{
  "nbformat": 4,
  "nbformat_minor": 0,
  "metadata": {
    "colab": {
      "provenance": []
    },
    "kernelspec": {
      "name": "python3",
      "display_name": "Python 3"
    },
    "language_info": {
      "name": "python"
    },
    "gpuClass": "standard"
  },
  "cells": [
    {
      "cell_type": "code",
      "source": [
        "pip install openai"
      ],
      "metadata": {
        "id": "5exuI_z2qPQq"
      },
      "execution_count": null,
      "outputs": []
    },
    {
      "cell_type": "code",
      "source": [
        "pip install langchain"
      ],
      "metadata": {
        "id": "UtkxFjyJv_-d"
      },
      "execution_count": null,
      "outputs": []
    },
    {
      "cell_type": "code",
      "source": [
        "texts='''Suppose you are a counsellor and you are given some questions and user's reponse \n",
        "        to those questions, based on his/her response predict whether he/she is addicted to that substance or not?.\n",
        "         For the prediction make 3 classes  , 0 for not addicted, 1 for mild addicted, 2 for seveare addicted.\n",
        "          Give me direct answer 0, 1 or 2 only, I just want integer only in my answer.\n",
        "           You can give weightage to the response for above questions based on your medical knowledge and data for prediction which affects the most.\n",
        "           User response to questions are either Yes, No, Sometimes or Prefer not to say'''"
      ],
      "metadata": {
        "id": "1g6b_yZXXq9o"
      },
      "execution_count": null,
      "outputs": []
    },
    {
      "cell_type": "code",
      "source": [
        "text1='''Suppose you are a counselor and you are given some questions and user's response to those questions.\n",
        "Based on their response, predict whether they are addicted to a substance or not.\n",
        "For the prediction, classify the addiction level into 4 classes: 0 for not addicted, 1 for mild addiction, 2 for severe addiction, and 3 for No response.\n",
        "Please provide an integer answer from 0 to 3 only, corresponding to the predicted addiction level.\n",
        "You can assign weightage to the responses based on your medical knowledge and data to determine the most influential factors for the prediction.\n",
        "If user answer all the question as 'Prefer not to say' give output as 3.\n",
        "The user's response to the questions can be either \"Yes,\" \"No,\" \"Sometimes,\" or \"Prefer not to say.\"\n",
        "'''"
      ],
      "metadata": {
        "id": "5SF3g3IbUmeE"
      },
      "execution_count": null,
      "outputs": []
    },
    {
      "cell_type": "code",
      "source": [
        "template2='''Given the questions and responses for addiction prediction:\n",
        "Questions and Responses:\n",
        "{user_input}\n",
        "\n",
        "Predict the user's addiction level by providing the corresponding number:\n",
        "0 for not addicted, 1 for mild addiction, 2 for severe addiction.\n",
        "If the user prefers not to answer any question, please ignore that question entirely in the prediction.\n",
        "If the user prefers not to disclose their addiction level for all questions, output 3 as the answer.\n",
        "'''"
      ],
      "metadata": {
        "id": "9MwO_-jcVkm0"
      },
      "execution_count": null,
      "outputs": []
    },
    {
      "cell_type": "code",
      "source": [
        "\n",
        "import os\n",
        "import openai\n",
        "import re\n",
        "from langchain import PromptTemplate, LLMChain\n",
        "from langchain.prompts import PromptTemplate\n",
        "from langchain.llms import OpenAI, OpenAIChat\n",
        "\n",
        "OPEN_AI_SECRET = YOUR_API_KEY\n",
        "os.environ['OPENAI_API_KEY'] = OPEN_AI_SECRET\n",
        "\n",
        "text1='''Suppose you are a counselor which only output integer value 0,1,2,3 soand you are given some questions and user's answer to those questions.\n",
        "The user's answer to the questions is either \"Yes,\" \"No,\" \"Sometimes,\" or \"Prefer not to say.\n",
        "Based on their response, predict whether they are addicted to a substance or not.\n",
        "For the prediction, classify the addiction level into 4 classes: 0 for not addicted, 1 for mild addiction, 2 for severe addiction, and 3 for No response.\n",
        "Please provide an output as a single integer from 0 to 3 only, corresponding to the predicted addiction level.\n",
        "You can assign weightage to the responses based on your medical knowledge and data to determine the most influential factors for the prediction.\n",
        "If user answer all the question as 'Prefer not to say' give output as 3.\"\n",
        "\n",
        "For example take 5 questions below\n",
        "Question 1: A similar one, Do you consume alcohol without being mood-dependent if offered in any situation?\n",
        "Question 2: Next, Have you tried to quit drinking but couldn't stay abstinent for more than a couple of days?\n",
        "Question 3: Does the negative or bothersome feeling you experience lead to your alcohol drinking habit?\n",
        "Question 4: Do you experience alcohol withdrawal symptoms like shaking, anxiety, depression, or morning vomiting when you abstain from drinking for a few days?\n",
        "Question 5: Last in the section, Do you hiding how much you are drinking from anyone close to you?\n",
        "Answer1 No\n",
        "Answer2 No\n",
        "Answer3 No\n",
        "Answer4 Prefer not to say\n",
        "Answer5 No\n",
        "\n",
        "Your output should be an integer  : 0 in this case.\n",
        "'''\n",
        "\n",
        "prefix_messages = [{\"role\": \"system\", \"content\": text1}]\n",
        "\n",
        "llm = OpenAIChat(model_name='gpt-3.5-turbo', temperature=0.3, prefix_messages=prefix_messages,max_tokens = 100)\n",
        "\n",
        "template1 = \"\"\"Take the following question and response of user for an addiction prediction: {user_input}\n",
        "predict whether he/she is addicted or not based on his response to his/her question just give the output as 0, 1, 2 only it belongs and no analysis, also if you found prefer not to say in entire list of questions given than only  print 3 as output only\"\"\"\n",
        "\n",
        "prompt1 = PromptTemplate(template=template1,  input_variables=[\"user_input\"])\n",
        "\n",
        "llm_chain = LLMChain(prompt=prompt1, llm=llm)\n",
        "\n",
        "#Check the code from here\n",
        "def QnA_store(prompts):\n",
        "  user_responses = []\n",
        "  i=1\n",
        "  for prompt in prompts:\n",
        "    user_response = input(prompt + \" \")   \n",
        "    user_responses.append(\"Answer\"+str(i) +' '+user_response) # #Storing answer of every question till list ends.Answer1 No\n",
        "    input_text = \"\\n\".join(prompts + user_responses)\n",
        "    i+=1\n",
        "  return input_text  #Collection of all Q set + their respective ans of particular drug\n",
        "  #When this fxn is called, drug 1's Question will be processed it's answer is stored along with question, once Q end entire Qs with answers processed to LLM for prediction, it is repeated for all drugs\n",
        "\n",
        "def extract_number(string):\n",
        "    # Regular Expression\n",
        "    num = re.search(r'\\d+', string)\n",
        "    if num:\n",
        "      store= int(num.group())\n",
        "      if store in [0,1,2,3]:\n",
        "        return store\n",
        "      else:\n",
        "        return 3\n",
        "    else:\n",
        "      return 3\n",
        "\n",
        "prompts_marijuana = [\n",
        "    \"Question 1: Take a near case, Do you consume marijuana without being mood-dependent if offered in any situation?\", #Y/N/S\n",
        "    \"Question 2: Cool, Have you experienced decreased appetite?\", #Y/N\n",
        "    \"Question 3: Do you feel like no longer participating in activities or events you once enjoyed?\",  #Y/N/S\n",
        "    \"Question 4: Do you frequently experience dehydration, nausea, vomiting, or a chronic cough that lasts for more than 8 weeks?\", #Y/N/S\n",
        "    \"Question 5: A little dive, Have you found yourself in psychosis (hurting stage) when you regain your senses?\"  #Y/N/S\n",
        "]\n",
        "\n",
        "prompts_screen=[\n",
        "    \"Question 1: Take a moment,  Do you feel a change in your mood for the worse when you can’t use your device?\",  #Y/N/S\n",
        "    \"Question 2: Do you had to work extra for assigned task later to complete your scheduled task?\",   #Y/N/S\n",
        "    \"Question 3: Think, Do you frequently uninstall and reinstall an app due to excessive use, without seeing any improvement in your habits?\",  #Y/N\n",
        "    \"Question 4: Do you encountered any 2 of these: Fear of missing out, checking phone at night, Phantom Vibrations.\",  #Y/N/S\n",
        "    \"Question 5: Well, Do you check people's profiles repeatedly due to anxiety or lie about device/screen use?\"  #Y/N\n",
        "]\n",
        "\n",
        "prompts_behaviour =[\n",
        "    \"Question 1: Do you have addiction-related thoughts during work or important activities anytimes?\",  ##Y/N/S\n",
        "    \"Question 2: Do you undergo risk-taking and increasing risky activities to thrill seek?\",   #Y/N/S\n",
        "    \"Question 3: Do you think you need more exposure to feel the highs one you used to feel while doing the activity?\", #Y/N/S\n",
        "    \"Question 4: Do you experience cravings for a specific activity, and do you feel shame or embarrassment after engaging in that activity?\", #Y/N/S\n",
        "    \"Question 5: Aha, Are you using the activity and justifying it to deal with trauma or poor mental health versus getting professional help?\" #Y/N\n",
        "]\n",
        "prompts_alcohol=[\n",
        "    \"Question 1: A similar one, Do you consume alcohol without being mood-dependent if offered in any situation?\", #Y/N/S\n",
        "    \"Question 2: Next, Have you tried to quit drinking but couldn't stay abstinent for more than a couple of days?\", #Y/N\n",
        "    \"Question 3: Does the negative or bothersome feeling you experience lead to your alcohol drinking habit?\", ##Y/N\n",
        "    \"Question 4: Do you experience alcohol withdrawal symptoms like shaking, anxiety, depression, or morning vomiting when you abstain from drinking for a few days?\", #Y/N/S\n",
        "    \"Question 5: Last in the section, Do you hiding how much you are drinking from anyone close to you?\" #Y/N\n",
        "]\n",
        "''']\n",
        "prompts_relationship =[\n",
        "    \"Question 1: Are you being too dependent on your partner?\",\n",
        "    \"Question 2: Do you have life outside of the relationship?\",\n",
        "    \"Question 3: Do you feel tired, confused, irritable or insecure?\",\n",
        "    \"Question 4: Do you think you do not have life outside of the relationship?\",\n",
        "    \"Question 5: Do you feel you are experiencing relationship obsessiveness?\",\n",
        "    \"Question 6: Take a moment, Do you mostly unable to see the partner’s flaws?\"\n",
        "]\n",
        "'''\n",
        "#prompts=[prompts_screen,prompts_behaviour,prompts_marijuana,prompts_alcohol]\n",
        "prompts=[prompts_marijuana]\n",
        "#Code for picking set of questions for each addiciton and appending the answers in predictions list in form of 0->not addicted,1->mild addicted,2->seveare addicted \n",
        "predictions=[]\n",
        "\n",
        "for prompt in prompts:\n",
        "  user_input = QnA_store(prompt)\n",
        "  pred=llm_chain.run(user_input)\n",
        "  pred_int= extract_number(pred)\n",
        "  predictions.append(pred_int)\n",
        "\n"
      ],
      "metadata": {
        "colab": {
          "base_uri": "https://localhost:8080/"
        },
        "id": "a7ZA6JFacptf",
        "outputId": "62419e14-a885-4351-b05a-d88880085c5f"
      },
      "execution_count": null,
      "outputs": [
        {
          "name": "stdout",
          "output_type": "stream",
          "text": [
            "Question 1: Take a near case, Do you consume marijuana without being mood-dependent if offered in any situation? yes\n",
            "Question 2: Cool, Have you experienced decreased appetite? no\n",
            "Question 3: Do you feel like no longer participating in activities or events you once enjoyed? yes\n",
            "Question 4: Do you frequently experience dehydration, nausea, vomiting, or a chronic cough that lasts for more than 8 weeks? sometimes\n",
            "Question 5: A little dive, Have you found yourself in psychosis (hurting stage) when you regain your senses? no\n"
          ]
        }
      ]
    },
    {
      "cell_type": "code",
      "source": [
        "predictions"
      ],
      "metadata": {
        "colab": {
          "base_uri": "https://localhost:8080/"
        },
        "id": "iBdGNXd8XB8X",
        "outputId": "38ff2919-de3e-4647-cc65-af159ed00881"
      },
      "execution_count": null,
      "outputs": [
        {
          "output_type": "execute_result",
          "data": {
            "text/plain": [
              "[2]"
            ]
          },
          "metadata": {},
          "execution_count": 10
        }
      ]
    }
  ]
}